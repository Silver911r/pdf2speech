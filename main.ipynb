{
 "cells": [
  {
   "cell_type": "code",
   "execution_count": 3,
   "metadata": {},
   "outputs": [],
   "source": [
    "import PyPDF2\n",
    "import pyttsx3"
   ]
  },
  {
   "cell_type": "code",
   "execution_count": 30,
   "metadata": {},
   "outputs": [
    {
     "name": "stdout",
     "output_type": "stream",
     "text": [
      "539\n"
     ]
    }
   ],
   "source": [
    "pdfFileObj = open('python_for_networking.pdf','rb')\n",
    "pdfReader = PyPDF2.PdfFileReader(pdfFileObj)\n",
    "print(pdfReader.numPages)\n",
    "pageObj = pdfReader.getPage(25)\n",
    "page =pageObj.extractText()\n",
    "lines = page.splitlines()\n",
    "lines = lines[:2]"
   ]
  },
  {
   "cell_type": "code",
   "execution_count": 34,
   "metadata": {},
   "outputs": [],
   "source": [
    "engine = pyttsx3.init()\n",
    "engine.setProperty('rate',400)\n",
    "voices = engine.getProperty('voices')\n",
    "engine.setProperty('voice', voices[0].id)\n",
    "\n",
    "for line in lines:\n",
    "    engine.say(line)\n",
    "\n",
    "engine.runAndWait()"
   ]
  },
  {
   "cell_type": "code",
   "execution_count": 12,
   "metadata": {},
   "outputs": [],
   "source": [
    "voices = engine.getProperty('voices')"
   ]
  },
  {
   "cell_type": "code",
   "execution_count": 19,
   "metadata": {},
   "outputs": [
    {
     "name": "stdout",
     "output_type": "stream",
     "text": [
      "Alex\talice\talva\tamelie\tanna\tcarmit\tdamayanti\tdaniel\tdiego\tellen\tfiona\tFred\tioana\tjoana\tjorge\tjuan\tkanya\tkaren\tkyoko\tlaura\tlekha\tluca\tluciana\tmaged\tmariska\tmeijia\tmelina\tmilena\tmoira\tmonica\tnora\tpaulina\trishi\tsamantha\tsara\tsatu\tsinji\ttessa\tthomas\ttingting\tveena\tVictoria\txander\tyelda\tyuna\tyuri\tzosia\tzuzana\t"
     ]
    }
   ],
   "source": [
    "for voice in voices:\n",
    "    print(voice.id.split('.')[-1], end='\\t')"
   ]
  },
  {
   "cell_type": "code",
   "execution_count": 2,
   "metadata": {},
   "outputs": [
    {
     "ename": "NameError",
     "evalue": "name 'lines' is not defined",
     "output_type": "error",
     "traceback": [
      "\u001b[0;31m---------------------------------------------------------------------------\u001b[0m",
      "\u001b[0;31mNameError\u001b[0m                                 Traceback (most recent call last)",
      "\u001b[1;32m/Users/aaminion/development/pdf2speech/main.ipynb Cell 11'\u001b[0m in \u001b[0;36m<module>\u001b[0;34m\u001b[0m\n\u001b[1;32m      <a href='vscode-notebook-cell:/Users/aaminion/development/pdf2speech/main.ipynb#ch0000010?line=0'>1</a>\u001b[0m engine \u001b[39m=\u001b[39m pyttsx3\u001b[39m.\u001b[39minit()\n\u001b[0;32m----> <a href='vscode-notebook-cell:/Users/aaminion/development/pdf2speech/main.ipynb#ch0000010?line=1'>2</a>\u001b[0m \u001b[39mfor\u001b[39;00m line \u001b[39min\u001b[39;00m lines:\n\u001b[1;32m      <a href='vscode-notebook-cell:/Users/aaminion/development/pdf2speech/main.ipynb#ch0000010?line=2'>3</a>\u001b[0m     engine\u001b[39m.\u001b[39msay(line)\n\u001b[1;32m      <a href='vscode-notebook-cell:/Users/aaminion/development/pdf2speech/main.ipynb#ch0000010?line=4'>5</a>\u001b[0m engine\u001b[39m.\u001b[39mrunAndWait()\n",
      "\u001b[0;31mNameError\u001b[0m: name 'lines' is not defined"
     ]
    }
   ],
   "source": []
  },
  {
   "cell_type": "code",
   "execution_count": null,
   "metadata": {},
   "outputs": [],
   "source": []
  }
 ],
 "metadata": {
  "interpreter": {
   "hash": "e039336b3da6ddc5c06aefa2bf028afb1e1f2c16fdcbb72b757492b1861c4708"
  },
  "kernelspec": {
   "display_name": "Python 3.10.2 ('venv')",
   "language": "python",
   "name": "python3"
  },
  "language_info": {
   "codemirror_mode": {
    "name": "ipython",
    "version": 3
   },
   "file_extension": ".py",
   "mimetype": "text/x-python",
   "name": "python",
   "nbconvert_exporter": "python",
   "pygments_lexer": "ipython3",
   "version": "3.10.2"
  },
  "orig_nbformat": 4
 },
 "nbformat": 4,
 "nbformat_minor": 2
}
